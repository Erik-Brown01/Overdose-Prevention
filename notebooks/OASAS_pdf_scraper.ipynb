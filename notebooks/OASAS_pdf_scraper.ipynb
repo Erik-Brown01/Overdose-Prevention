{
 "cells": [
  {
   "cell_type": "code",
   "execution_count": 26,
   "id": "ea87f273",
   "metadata": {},
   "outputs": [],
   "source": [
    "import tabula\n",
    "import pandas as pd\n",
    "import numpy as np"
   ]
  },
  {
   "cell_type": "code",
   "execution_count": 22,
   "id": "2b996baa",
   "metadata": {},
   "outputs": [],
   "source": [
    "tables = tabula.read_pdf(r\"C:\\Users\\ebroh\\Downloads\\Bronx ATC IP Inpatient Rehabilitation .pdf\",multiple_tables=True,pages='all',encoding='utf-8',lattice = True, pandas_options = {'header': None})\n"
   ]
  },
  {
   "cell_type": "code",
   "execution_count": 29,
   "id": "b5aa7e6a",
   "metadata": {},
   "outputs": [],
   "source": [
    "def shift_rows(df):\n",
    "    shifted_df = df.copy()\n",
    "    for index, row in shifted_df.iterrows():\n",
    "        # Get the number of NaN values in the row\n",
    "        nan_count = row.isna().sum()\n",
    "        \n",
    "        # If the last column contains NaN, shift the row to the right\n",
    "        if pd.isna(row.iloc[-1]):\n",
    "            shifted_df.iloc[index, nan_count:] = row.dropna().values\n",
    "            \n",
    "            # Fill the remaining cells with NaN\n",
    "            shifted_df.iloc[index, :nan_count] = np.nan\n",
    "            \n",
    "    # Remove columns where all values are NaN\n",
    "    shifted_df = shifted_df.dropna(axis=1, how='all')\n",
    "    \n",
    "    return shifted_df"
   ]
  },
  {
   "cell_type": "code",
   "execution_count": null,
   "id": "a4fd62af",
   "metadata": {},
   "outputs": [],
   "source": []
  }
 ],
 "metadata": {
  "kernelspec": {
   "display_name": "Python 3 (ipykernel)",
   "language": "python",
   "name": "python3"
  },
  "language_info": {
   "codemirror_mode": {
    "name": "ipython",
    "version": 3
   },
   "file_extension": ".py",
   "mimetype": "text/x-python",
   "name": "python",
   "nbconvert_exporter": "python",
   "pygments_lexer": "ipython3",
   "version": "3.10.6"
  },
  "toc": {
   "base_numbering": 1,
   "nav_menu": {},
   "number_sections": true,
   "sideBar": true,
   "skip_h1_title": false,
   "title_cell": "Table of Contents",
   "title_sidebar": "Contents",
   "toc_cell": false,
   "toc_position": {},
   "toc_section_display": true,
   "toc_window_display": false
  },
  "varInspector": {
   "cols": {
    "lenName": 16,
    "lenType": 16,
    "lenVar": 40
   },
   "kernels_config": {
    "python": {
     "delete_cmd_postfix": "",
     "delete_cmd_prefix": "del ",
     "library": "var_list.py",
     "varRefreshCmd": "print(var_dic_list())"
    },
    "r": {
     "delete_cmd_postfix": ") ",
     "delete_cmd_prefix": "rm(",
     "library": "var_list.r",
     "varRefreshCmd": "cat(var_dic_list()) "
    }
   },
   "types_to_exclude": [
    "module",
    "function",
    "builtin_function_or_method",
    "instance",
    "_Feature"
   ],
   "window_display": false
  }
 },
 "nbformat": 4,
 "nbformat_minor": 5
}
