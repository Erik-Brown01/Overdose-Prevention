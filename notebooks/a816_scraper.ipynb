{
 "cells": [
  {
   "cell_type": "code",
   "execution_count": 1,
   "id": "2f7fe894",
   "metadata": {},
   "outputs": [],
   "source": [
    "import pandas as pd"
   ]
  },
  {
   "cell_type": "code",
   "execution_count": 2,
   "id": "8a303a4f",
   "metadata": {},
   "outputs": [],
   "source": [
    "df = pd.read_json('https://a816-healthpsi.nyc.gov/NYCHealthMap/Home/GetFacilityDetailsbyCategories?latitude=40.73061&longitude=-73.935242&distance=1000&categories=3&shouldlog=true&_=1681419245458')\n",
    "df.to_csv('../data/a816_SYRINGE.csv')"
   ]
  },
  {
   "cell_type": "code",
   "execution_count": 3,
   "id": "5bc72fab",
   "metadata": {},
   "outputs": [],
   "source": [
    "df1 = pd.read_json('https://a816-healthpsi.nyc.gov/NYCHealthMap/Home/GetFacilityDetailsbyCategories?latitude=40.73061&longitude=-73.935242&distance=10000&categories=2&shouldlog=true&_=1681419245457')\n",
    "df1.to_csv('../data/a816_NALOXONE.csv')"
   ]
  },
  {
   "cell_type": "code",
   "execution_count": 4,
   "id": "da1fe42a",
   "metadata": {},
   "outputs": [],
   "source": [
    "df2 = pd.read_json('https://a816-healthpsi.nyc.gov/NYCHealthMap/Home/GetFacilityDetailsbyCategories?latitude=40.73061&longitude=-73.935242&distance=10000&categories=172&shouldlog=true&_=1681419245456')\n",
    "df2.to_csv('../data/a816_BUPRENORPHINE.csv')"
   ]
  },
  {
   "cell_type": "code",
   "execution_count": null,
   "id": "e4009188",
   "metadata": {},
   "outputs": [],
   "source": []
  }
 ],
 "metadata": {
  "kernelspec": {
   "display_name": "Python 3 (ipykernel)",
   "language": "python",
   "name": "python3"
  },
  "language_info": {
   "codemirror_mode": {
    "name": "ipython",
    "version": 3
   },
   "file_extension": ".py",
   "mimetype": "text/x-python",
   "name": "python",
   "nbconvert_exporter": "python",
   "pygments_lexer": "ipython3",
   "version": "3.10.6"
  },
  "toc": {
   "base_numbering": 1,
   "nav_menu": {},
   "number_sections": true,
   "sideBar": true,
   "skip_h1_title": false,
   "title_cell": "Table of Contents",
   "title_sidebar": "Contents",
   "toc_cell": false,
   "toc_position": {},
   "toc_section_display": true,
   "toc_window_display": false
  },
  "varInspector": {
   "cols": {
    "lenName": 16,
    "lenType": 16,
    "lenVar": 40
   },
   "kernels_config": {
    "python": {
     "delete_cmd_postfix": "",
     "delete_cmd_prefix": "del ",
     "library": "var_list.py",
     "varRefreshCmd": "print(var_dic_list())"
    },
    "r": {
     "delete_cmd_postfix": ") ",
     "delete_cmd_prefix": "rm(",
     "library": "var_list.r",
     "varRefreshCmd": "cat(var_dic_list()) "
    }
   },
   "types_to_exclude": [
    "module",
    "function",
    "builtin_function_or_method",
    "instance",
    "_Feature"
   ],
   "window_display": false
  }
 },
 "nbformat": 4,
 "nbformat_minor": 5
}
